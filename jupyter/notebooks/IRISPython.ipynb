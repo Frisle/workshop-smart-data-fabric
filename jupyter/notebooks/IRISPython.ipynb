{
 "cells": [
  {
   "cell_type": "markdown",
   "id": "89bf26f7-6f65-43a2-8164-c8d8c466f947",
   "metadata": {},
   "source": [
    "# Init connection"
   ]
  },
  {
   "cell_type": "code",
   "execution_count": 1,
   "id": "06948460-03aa-4020-833b-d4961131173a",
   "metadata": {
    "tags": []
   },
   "outputs": [],
   "source": [
    "import iris, irisnative\n",
    "import time, json\n",
    "import pandas as pd\n",
    "import numpy as np\n",
    "import matplotlib.pyplot as plt\n",
    "\n",
    "import warnings\n",
    "warnings.simplefilter(\"ignore\")\n",
    "\n",
    "connection = iris.connect(\"iris:1972/SDF\", \"_SYSTEM\", \"SYS\")\n",
    "irispy = irisnative.createIris(connection)"
   ]
  },
  {
   "cell_type": "markdown",
   "id": "80c9caed-6c06-41c6-9df0-36ec51cd2c21",
   "metadata": {},
   "source": [
    "# Open object & invoke methods"
   ]
  },
  {
   "cell_type": "code",
   "execution_count": 4,
   "id": "fe2c88c1-326b-446e-9671-c49b94ec90e4",
   "metadata": {
    "tags": []
   },
   "outputs": [
    {
     "data": {
      "text/plain": [
       "'{\"Id\":\"1\",\"Identifier\":\"679190\",\"FirstName\":\"Zeke\",\"LastName\":\"Brian\",\"AdministrativeSex\":\"M\",\"BirthDate\":\"1983-01-20\",\"Age\":40,\"Observations\":[\"1\",\"2\",\"3\",\"4\",\"5\",\"3962\",\"3963\",\"3964\",\"3965\",\"3966\"]}'"
      ]
     },
     "execution_count": 4,
     "metadata": {},
     "output_type": "execute_result"
    }
   ],
   "source": [
    "obj = irispy.classMethodObject(\"sdf.data.Patient\",\"%OpenId\",1)\n",
    "jsonString = iris.IRISReference(None);\n",
    "obj.invoke(\"%JSONExportToString\", jsonString)\n",
    "jsonString.getValue()"
   ]
  },
  {
   "cell_type": "markdown",
   "id": "22212cf8-c06c-49f6-8211-d69cd2e997e0",
   "metadata": {
    "tags": []
   },
   "source": [
    "# Run SQL queries\n",
    "\n",
    "```sql\n",
    "SELECT * FROM sdf_data.Observation\n",
    "```"
   ]
  },
  {
   "cell_type": "code",
   "execution_count": 3,
   "id": "e02dd085-0a02-4588-89f0-a859f98ca125",
   "metadata": {
    "tags": []
   },
   "outputs": [
    {
     "data": {
      "text/html": [
       "<div>\n",
       "<style scoped>\n",
       "    .dataframe tbody tr th:only-of-type {\n",
       "        vertical-align: middle;\n",
       "    }\n",
       "\n",
       "    .dataframe tbody tr th {\n",
       "        vertical-align: top;\n",
       "    }\n",
       "\n",
       "    .dataframe thead th {\n",
       "        text-align: right;\n",
       "    }\n",
       "</style>\n",
       "<table border=\"1\" class=\"dataframe\">\n",
       "  <thead>\n",
       "    <tr style=\"text-align: right;\">\n",
       "      <th></th>\n",
       "      <th>ID</th>\n",
       "      <th>Code</th>\n",
       "      <th>Identifier</th>\n",
       "      <th>Patient</th>\n",
       "      <th>Status</th>\n",
       "      <th>TimeStamp</th>\n",
       "      <th>Units</th>\n",
       "      <th>ValueNM</th>\n",
       "      <th>ValueST</th>\n",
       "    </tr>\n",
       "  </thead>\n",
       "  <tbody>\n",
       "    <tr>\n",
       "      <th>0</th>\n",
       "      <td>1</td>\n",
       "      <td>BloodGlucose</td>\n",
       "      <td>None</td>\n",
       "      <td>1</td>\n",
       "      <td>F</td>\n",
       "      <td>2022-10-03 07:11:02</td>\n",
       "      <td>mmol/L</td>\n",
       "      <td>15.00</td>\n",
       "      <td>None</td>\n",
       "    </tr>\n",
       "    <tr>\n",
       "      <th>1</th>\n",
       "      <td>2</td>\n",
       "      <td>BodyTemp</td>\n",
       "      <td>None</td>\n",
       "      <td>1</td>\n",
       "      <td>F</td>\n",
       "      <td>2022-10-03 07:11:02</td>\n",
       "      <td>C</td>\n",
       "      <td>36.67</td>\n",
       "      <td>None</td>\n",
       "    </tr>\n",
       "    <tr>\n",
       "      <th>2</th>\n",
       "      <td>3</td>\n",
       "      <td>DiastolicBP</td>\n",
       "      <td>None</td>\n",
       "      <td>1</td>\n",
       "      <td>F</td>\n",
       "      <td>2022-10-03 07:11:02</td>\n",
       "      <td>mmHg</td>\n",
       "      <td>85.00</td>\n",
       "      <td>None</td>\n",
       "    </tr>\n",
       "    <tr>\n",
       "      <th>3</th>\n",
       "      <td>4</td>\n",
       "      <td>HeartRate</td>\n",
       "      <td>None</td>\n",
       "      <td>1</td>\n",
       "      <td>F</td>\n",
       "      <td>2022-10-03 07:11:02</td>\n",
       "      <td>bpm</td>\n",
       "      <td>60.00</td>\n",
       "      <td>None</td>\n",
       "    </tr>\n",
       "    <tr>\n",
       "      <th>4</th>\n",
       "      <td>5</td>\n",
       "      <td>SystolicBP</td>\n",
       "      <td>None</td>\n",
       "      <td>1</td>\n",
       "      <td>F</td>\n",
       "      <td>2022-10-03 07:11:02</td>\n",
       "      <td>mmHg</td>\n",
       "      <td>120.00</td>\n",
       "      <td>None</td>\n",
       "    </tr>\n",
       "    <tr>\n",
       "      <th>...</th>\n",
       "      <td>...</td>\n",
       "      <td>...</td>\n",
       "      <td>...</td>\n",
       "      <td>...</td>\n",
       "      <td>...</td>\n",
       "      <td>...</td>\n",
       "      <td>...</td>\n",
       "      <td>...</td>\n",
       "      <td>...</td>\n",
       "    </tr>\n",
       "    <tr>\n",
       "      <th>4240</th>\n",
       "      <td>4241</td>\n",
       "      <td>BodyTemp</td>\n",
       "      <td>None</td>\n",
       "      <td>689</td>\n",
       "      <td>F</td>\n",
       "      <td>2022-11-23 06:16:41</td>\n",
       "      <td>C</td>\n",
       "      <td>36.67</td>\n",
       "      <td>None</td>\n",
       "    </tr>\n",
       "    <tr>\n",
       "      <th>4241</th>\n",
       "      <td>4242</td>\n",
       "      <td>DiastolicBP</td>\n",
       "      <td>None</td>\n",
       "      <td>689</td>\n",
       "      <td>F</td>\n",
       "      <td>2022-11-23 06:16:41</td>\n",
       "      <td>mmHg</td>\n",
       "      <td>100.00</td>\n",
       "      <td>None</td>\n",
       "    </tr>\n",
       "    <tr>\n",
       "      <th>4242</th>\n",
       "      <td>4243</td>\n",
       "      <td>HeartRate</td>\n",
       "      <td>None</td>\n",
       "      <td>689</td>\n",
       "      <td>F</td>\n",
       "      <td>2022-11-23 06:16:41</td>\n",
       "      <td>bpm</td>\n",
       "      <td>66.00</td>\n",
       "      <td>None</td>\n",
       "    </tr>\n",
       "    <tr>\n",
       "      <th>4243</th>\n",
       "      <td>4244</td>\n",
       "      <td>RiskLevel</td>\n",
       "      <td>None</td>\n",
       "      <td>689</td>\n",
       "      <td>F</td>\n",
       "      <td>2022-11-23 06:16:41</td>\n",
       "      <td>risk</td>\n",
       "      <td>NaN</td>\n",
       "      <td>high risk</td>\n",
       "    </tr>\n",
       "    <tr>\n",
       "      <th>4244</th>\n",
       "      <td>4245</td>\n",
       "      <td>SystolicBP</td>\n",
       "      <td>None</td>\n",
       "      <td>689</td>\n",
       "      <td>F</td>\n",
       "      <td>2022-11-23 06:16:41</td>\n",
       "      <td>mmHg</td>\n",
       "      <td>140.00</td>\n",
       "      <td>None</td>\n",
       "    </tr>\n",
       "  </tbody>\n",
       "</table>\n",
       "<p>4245 rows × 9 columns</p>\n",
       "</div>"
      ],
      "text/plain": [
       "        ID          Code Identifier Patient Status            TimeStamp  \\\n",
       "0        1  BloodGlucose       None       1      F  2022-10-03 07:11:02   \n",
       "1        2      BodyTemp       None       1      F  2022-10-03 07:11:02   \n",
       "2        3   DiastolicBP       None       1      F  2022-10-03 07:11:02   \n",
       "3        4     HeartRate       None       1      F  2022-10-03 07:11:02   \n",
       "4        5    SystolicBP       None       1      F  2022-10-03 07:11:02   \n",
       "...    ...           ...        ...     ...    ...                  ...   \n",
       "4240  4241      BodyTemp       None     689      F  2022-11-23 06:16:41   \n",
       "4241  4242   DiastolicBP       None     689      F  2022-11-23 06:16:41   \n",
       "4242  4243     HeartRate       None     689      F  2022-11-23 06:16:41   \n",
       "4243  4244     RiskLevel       None     689      F  2022-11-23 06:16:41   \n",
       "4244  4245    SystolicBP       None     689      F  2022-11-23 06:16:41   \n",
       "\n",
       "       Units  ValueNM    ValueST  \n",
       "0     mmol/L    15.00       None  \n",
       "1          C    36.67       None  \n",
       "2       mmHg    85.00       None  \n",
       "3        bpm    60.00       None  \n",
       "4       mmHg   120.00       None  \n",
       "...      ...      ...        ...  \n",
       "4240       C    36.67       None  \n",
       "4241    mmHg   100.00       None  \n",
       "4242     bpm    66.00       None  \n",
       "4243    risk      NaN  high risk  \n",
       "4244    mmHg   140.00       None  \n",
       "\n",
       "[4245 rows x 9 columns]"
      ]
     },
     "execution_count": 3,
     "metadata": {},
     "output_type": "execute_result"
    }
   ],
   "source": [
    "data = pd.read_sql_query(\"SELECT * FROM sdf_data.Observation\", connection)\n",
    "data"
   ]
  },
  {
   "cell_type": "markdown",
   "id": "3f2f4c38-a184-4109-bcf5-2710011ca108",
   "metadata": {
    "tags": []
   },
   "source": [
    "# Stats for BloodGlucose"
   ]
  },
  {
   "cell_type": "code",
   "execution_count": 6,
   "id": "3ea73829-3ce0-443d-83c5-2c9a9052821e",
   "metadata": {
    "tags": []
   },
   "outputs": [
    {
     "name": "stdout",
     "output_type": "stream",
     "text": [
      "Mean value:        8.771178756476685\n",
      "Standard deviation: 3.301102859230095\n",
      "Minimum values:     6.0\n",
      "Maximum values:     19.0\n",
      "25th percentile:    6.9\n",
      "Median:             7.5\n",
      "75th percentile:    8.0\n"
     ]
    }
   ],
   "source": [
    "values = np.array(data.loc[(data.Code == \"BloodGlucose\")]['ValueNM'])\n",
    "\n",
    "print(\"Mean value:       \", values.mean())\n",
    "print(\"Standard deviation:\", values.std())\n",
    "print(\"Minimum values:    \", values.min())\n",
    "print(\"Maximum values:    \", values.max())\n",
    "\n",
    "print(\"25th percentile:   \", np.percentile(values, 25))\n",
    "print(\"Median:            \", np.median(values))\n",
    "print(\"75th percentile:   \", np.percentile(values, 75))"
   ]
  },
  {
   "cell_type": "markdown",
   "id": "3b452e06-d624-4a55-8779-4a62228a93cc",
   "metadata": {},
   "source": [
    "# BloodGlucose Distribution"
   ]
  },
  {
   "cell_type": "code",
   "execution_count": 10,
   "id": "33f78cf6-ed93-45be-bf1d-ccc8f7f9769f",
   "metadata": {
    "tags": []
   },
   "outputs": [
    {
     "data": {
      "image/png": "[encoded data removed]",
      "text/plain": [
       "<Figure size 640x480 with 1 Axes>"
      ]
     },
     "metadata": {},
     "output_type": "display_data"
    }
   ],
   "source": [
    "%matplotlib inline\n",
    "import matplotlib.pyplot as plt\n",
    "plt.hist(values)\n",
    "plt.title('BloodGlucose Distribution')\n",
    "plt.xlabel('BloodGlucose (mmol/L)')\n",
    "plt.ylabel('number');"
   ]
  }
 ],
 "metadata": {
  "kernelspec": {
   "display_name": "Python 3 (ipykernel)",
   "language": "python",
   "name": "python3"
  },
  "language_info": {
   "codemirror_mode": {
    "name": "ipython",
    "version": 3
   },
   "file_extension": ".py",
   "mimetype": "text/x-python",
   "name": "python",
   "nbconvert_exporter": "python",
   "pygments_lexer": "ipython3",
   "version": "3.10.9"
  }
 },
 "nbformat": 4,
 "nbformat_minor": 5
}
