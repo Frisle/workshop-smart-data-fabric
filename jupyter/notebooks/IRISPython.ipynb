{
 "cells": [
  {
   "cell_type": "markdown",
   "id": "89bf26f7-6f65-43a2-8164-c8d8c466f947",
   "metadata": {},
   "source": [
    "# init connection"
   ]
  },
  {
   "cell_type": "code",
   "execution_count": 3,
   "id": "06948460-03aa-4020-833b-d4961131173a",
   "metadata": {},
   "outputs": [],
   "source": [
    "import iris, irisnative\n",
    "import time, json\n",
    "import pandas as pd\n",
    "import numpy as np\n",
    "import matplotlib.pyplot as plt\n",
    "\n",
    "connection = iris.connect(\"iris:1972/DATALAKE\", \"_SYSTEM\", \"SYS\")\n",
    "irispy = irisnative.createIris(connection)"
   ]
  },
  {
   "cell_type": "markdown",
   "id": "80c9caed-6c06-41c6-9df0-36ec51cd2c21",
   "metadata": {},
   "source": [
    "# open object & invoke json export"
   ]
  },
  {
   "cell_type": "code",
   "execution_count": 11,
   "id": "fe2c88c1-326b-446e-9671-c49b94ec90e4",
   "metadata": {},
   "outputs": [
    {
     "data": {
      "text/plain": [
       "1"
      ]
     },
     "execution_count": 11,
     "metadata": {},
     "output_type": "execute_result"
    }
   ],
   "source": [
    "obj = irispy.classMethodObject(\"datalake.data.Patient\",\"%OpenId\",1)\n",
    "jsonString = iris.IRISReference(None);\n",
    "obj.invoke(\"%JSONExportToString\", jsonString)"
   ]
  },
  {
   "cell_type": "markdown",
   "id": "4ed98bc6-bc7b-40a9-86a7-0ca7fa41ff12",
   "metadata": {},
   "source": [
    "# print json"
   ]
  },
  {
   "cell_type": "code",
   "execution_count": 10,
   "id": "1de78b8f-5e98-47cf-b6ee-9c66f99e31bd",
   "metadata": {},
   "outputs": [
    {
     "data": {
      "text/plain": [
       "'{\"Id\":\"1\",\"Identifier\":\"679190\",\"FirstName\":\"Zeke\",\"LastName\":\"Brian\",\"AdministrativeSex\":\"M\",\"BirthDate\":\"1983-01-20\",\"Age\":40,\"Observations\":[\"1\",\"2\",\"3\",\"4\",\"5\"]}'"
      ]
     },
     "execution_count": 10,
     "metadata": {},
     "output_type": "execute_result"
    }
   ],
   "source": [
    "jsonString.getValue()"
   ]
  }
 ],
 "metadata": {
  "kernelspec": {
   "display_name": "Python 3 (ipykernel)",
   "language": "python",
   "name": "python3"
  },
  "language_info": {
   "codemirror_mode": {
    "name": "ipython",
    "version": 3
   },
   "file_extension": ".py",
   "mimetype": "text/x-python",
   "name": "python",
   "nbconvert_exporter": "python",
   "pygments_lexer": "ipython3",
   "version": "3.10.8"
  }
 },
 "nbformat": 4,
 "nbformat_minor": 5
}
